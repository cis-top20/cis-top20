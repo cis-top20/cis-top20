{
 "cells": [
  {
   "cell_type": "code",
   "execution_count": null,
   "metadata": {},
   "outputs": [],
   "source": [
    "import pandas as pd\n",
    "from capping import capping\n",
    "from coinmarketcap import Market\n",
    "from bittrex import Bittrex, API_V2_0, API_V1_1\n",
    "from os import getenv\n",
    "\n",
    "# get coinmarketcap top 50\n",
    "coinmarketcap = Market()\n",
    "data = coinmarketcap.ticker(limit=50)\n",
    "\n",
    "# create blacklist\n",
    "blacklist = pd.Series(['BCC','USDT'])\n",
    "symbol_map = {'IOTA': 'MIOTA',\n",
    "              'BCC': 'BCH'}\n",
    "\n",
    "\n",
    "## binance\n",
    "from binance.client import Client\n",
    "my_binance = Client(getenv('BINANCE_API_KEY'), getenv('BINANCE_API_SECRET'))\n",
    "\n",
    "# binance markets\n",
    "binance_markets = my_binance.get_products()\n",
    "\n",
    "binance_coins = pd.Series(list(set([p['baseAsset'] for p in binance_markets['data']])))\n",
    "binance_coins = binance_coins.replace(symbol_map)\n",
    "\n",
    "# create dataframe from coinmarketcap data\n",
    "df = pd.DataFrame(data)\n",
    "\n",
    "# remove blacklist coins and coins not in bittrex from dataframe\n",
    "df = df.loc[df['symbol'].isin(binance_coins) & ~df['symbol'].isin(blacklist), :]\n",
    "\n",
    "\n",
    "# get top 20\n",
    "df = df.head(17)\n",
    "\n",
    "# compute market weights\n",
    "df['market_cap_usd'] = df['market_cap_usd'].astype(float)\n",
    "df['weight'] = df['market_cap_usd']/df['market_cap_usd'].sum()\n",
    "\n",
    "# compute capped weights\n",
    "capped = capping(df, 0.1, weight_column='weight')\n",
    "\n",
    "weights = capped.loc[:, ['name', 'symbol', 'weight', 'price_btc']]\n",
    "weights['price_btc'] = weights['price_btc'].astype(float)\n",
    "weights.set_index('symbol', inplace=True)\n",
    "weights"
   ]
  },
  {
   "cell_type": "code",
   "execution_count": null,
   "metadata": {},
   "outputs": [],
   "source": [
    "my_account = pd.DataFrame([b for b in my_binance.get_account()['balances'] if float(b['free']) > 0])\n",
    "my_account['asset'] = my_account['asset'].replace(symbol_map)\n",
    "my_account.set_index('asset', inplace=True)"
   ]
  },
  {
   "cell_type": "code",
   "execution_count": null,
   "metadata": {},
   "outputs": [],
   "source": [
    "weights['current_value'] = my_account['free'].astype(float)\n",
    "weights['current_value_btc'] = weights['current_value'] * weights['price_btc'].astype('float')\n",
    "weights.fillna(0, inplace=True)\n",
    "weights['target_value_btc'] = weights['weight'] * weights['current_value_btc'].sum()\n",
    "weights['diff_btc'] = weights['target_value_btc'] - weights['current_value_btc']\n",
    "weights['diff_btc_round'] = weights['diff_btc'].round(4)\n",
    "weights['diff'] = weights['diff_btc_round']/weights['price_btc']"
   ]
  },
  {
   "cell_type": "code",
   "execution_count": null,
   "metadata": {},
   "outputs": [],
   "source": [
    "def color_negative_red(val):\n",
    "    \"\"\"\n",
    "    Takes a scalar and returns a string with\n",
    "    the css property `'color: red'` for negative\n",
    "    strings, black otherwise.\n",
    "    \"\"\"\n",
    "    if val < 0:\n",
    "        color = 'red' \n",
    "    elif val > 0:\n",
    "        color = 'green'\n",
    "    else:\n",
    "        color = 'black'\n",
    "    return 'color: %s' % color\n",
    "\n",
    "weights.style.applymap(color_negative_red, subset=['diff_btc', 'diff_btc_round', 'diff'])"
   ]
  },
  {
   "cell_type": "code",
   "execution_count": null,
   "metadata": {},
   "outputs": [],
   "source": [
    "diffs = weights.loc[:, ['name', 'diff_btc_round', 'diff']]\n",
    "\n",
    "diffs.style.applymap(color_negative_red, subset=['diff_btc_round', 'diff'])"
   ]
  },
  {
   "cell_type": "code",
   "execution_count": null,
   "metadata": {
    "collapsed": true
   },
   "outputs": [],
   "source": []
  }
 ],
 "metadata": {
  "kernelspec": {
   "display_name": "crenv",
   "language": "python",
   "name": "crenv"
  },
  "language_info": {
   "codemirror_mode": {
    "name": "ipython",
    "version": 3
   },
   "file_extension": ".py",
   "mimetype": "text/x-python",
   "name": "python",
   "nbconvert_exporter": "python",
   "pygments_lexer": "ipython3",
   "version": "3.5.4"
  }
 },
 "nbformat": 4,
 "nbformat_minor": 2
}
