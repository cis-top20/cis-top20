{
 "cells": [
  {
   "cell_type": "code",
   "execution_count": null,
   "metadata": {},
   "outputs": [],
   "source": [
    "import numpy as np\n",
    "import pandas as pd\n",
    "from capping import capping\n",
    "from coinmarketcap import Market\n",
    "from bittrex import Bittrex, API_V2_0, API_V1_1\n",
    "from os import getenv\n",
    "\n",
    "# get coinmarketcap top 50\n",
    "coinmarketcap = Market()\n",
    "data = coinmarketcap.ticker(limit=50)\n",
    "\n",
    "# create blacklist\n",
    "blacklist = pd.Series(['BCC','USDT'])\n",
    "symbol_map = {'IOTA': 'MIOTA',\n",
    "              'BCC': 'BCH'}\n",
    "\n",
    "## binance\n",
    "from binance.client import Client\n",
    "my_binance = Client(getenv('BINANCE_API_KEY'), getenv('BINANCE_API_SECRET'))\n",
    "binance_price_btc = pd.Series({t['symbol'].split('BTC')[0]: t['lastPrice'] for t in my_binance.get_ticker() if 'BTC' in t['symbol']})\n",
    "binance_price_btc.index = binance_price_btc.reset_index()['index'].replace(symbol_map)\n",
    "binance_price_btc.drop('', inplace=True)\n",
    "binance_price_btc['BTC'] = 1.0\n",
    "binance_price_btc.name = 'price_btc'\n",
    "\n",
    "# binance markets\n",
    "binance_markets = my_binance.get_products()\n",
    "\n",
    "binance_coins = pd.Series(list(set([p['baseAsset'] for p in binance_markets['data']])))\n",
    "binance_coins = binance_coins.replace(symbol_map)\n",
    "\n",
    "# create dataframe from coinmarketcap data\n",
    "df = pd.DataFrame(data)\n",
    "\n",
    "# remove blacklist coins and coins not in bittrex from dataframe\n",
    "df = df.loc[df['symbol'].isin(binance_coins) & ~df['symbol'].isin(blacklist), :]\n",
    "\n",
    "\n",
    "# get top 20\n",
    "df = df.head(20)\n",
    "\n",
    "# compute market weights\n",
    "df['market_cap_usd'] = df['market_cap_usd'].astype(float)\n",
    "df['weight'] = df['market_cap_usd']/df['market_cap_usd'].sum()\n",
    "\n",
    "# compute capped weights\n",
    "capped = capping(df, 0.1, weight_column='weight')\n",
    "\n",
    "weights = capped.loc[:, ['name', 'symbol', 'weight']]#, 'price_btc']]\n",
    "weights.set_index('symbol', inplace=True)"
   ]
  },
  {
   "cell_type": "code",
   "execution_count": null,
   "metadata": {},
   "outputs": [],
   "source": [
    "my_account = pd.DataFrame([b for b in my_binance.get_account()['balances'] if float(b['free']) > 0])\n",
    "my_account['asset'] = my_account['asset'].replace(symbol_map)\n",
    "my_account.set_index('asset', inplace=True)\n",
    "my_account.drop(['BNB', 'GAS'], inplace=True) # treat this other way"
   ]
  },
  {
   "cell_type": "code",
   "execution_count": null,
   "metadata": {},
   "outputs": [],
   "source": [
    "my_account['current_value'] = my_account['free'].astype(float)\n",
    "weights = pd.concat((weights, my_account['current_value']), axis=1)\n",
    "weights = pd.concat((weights, binance_price_btc), axis=1, join='inner')\n",
    "weights['price_btc'] = weights['price_btc'].astype(float)\n",
    "weights['current_value_btc'] = weights['current_value'] * weights['price_btc'].astype('float')\n",
    "weights.fillna(0, inplace=True)\n",
    "weights['current_weight'] = weights['current_value_btc']/weights['current_value_btc'].sum()\n",
    "weights['target_value_btc'] = weights['weight'] * weights['current_value_btc'].sum()\n",
    "weights['diff_btc'] = weights['target_value_btc'] - weights['current_value_btc']\n",
    "weights['diff_btc_round'] = np.where(weights['diff_btc'].abs() > 0.0002, weights['diff_btc'], weights['diff_btc'].round(3))\n",
    "weights['diff'] = weights['diff_btc_round']/weights['price_btc']\n",
    "weights.sort_values('weight', ascending=False)"
   ]
  },
  {
   "cell_type": "code",
   "execution_count": null,
   "metadata": {},
   "outputs": [],
   "source": [
    "def color_negative_red(val):\n",
    "    \"\"\"\n",
    "    Takes a scalar and returns a string with\n",
    "    the css property `'color: red'` for negative\n",
    "    strings, black otherwise.\n",
    "    \"\"\"\n",
    "    if val < 0:\n",
    "        color = 'red' \n",
    "    elif val > 0:\n",
    "        color = 'green'\n",
    "    else:\n",
    "        color = 'black'\n",
    "    return 'color: %s' % color\n",
    "\n",
    "weights.style.applymap(color_negative_red, subset=['diff_btc', 'diff_btc_round', 'diff'])"
   ]
  },
  {
   "cell_type": "code",
   "execution_count": null,
   "metadata": {},
   "outputs": [],
   "source": [
    "diffs = weights.loc[:, ['name', 'price_btc', 'diff_btc_round', 'diff']]\n",
    "\n",
    "sell_prop = diffs.diff_btc_round.where(diffs.diff_btc_round < 0)/diffs.diff_btc_round.where(diffs.diff_btc_round < 0).sum()\n",
    "diffs['diff_btc_round'] = np.where(diffs['diff_btc_round'] < 0,  diffs['diff_btc_round']-(diffs['diff_btc_round'].sum()*sell_prop), diffs['diff_btc_round'])\n",
    "diffs['diff'] = diffs['diff_btc_round']/diffs['price_btc']\n",
    "#diffs['weight_diff'] = (diffs['diff_btc_round']+weights['current_value_btc'])/(diffs['diff_btc_round']+weights['current_value_btc']).sum()-weights['weight']\n",
    "print(\"sum diff_btc_round = \", diffs.diff_btc_round.sum())\n",
    "diffs.style.applymap(color_negative_red, subset=['diff_btc_round', 'diff'])"
   ]
  },
  {
   "cell_type": "code",
   "execution_count": null,
   "metadata": {},
   "outputs": [],
   "source": [
    "diffs['diff_btc_round'].sum()"
   ]
  },
  {
   "cell_type": "code",
   "execution_count": null,
   "metadata": {},
   "outputs": [],
   "source": [
    "weights.current_value_btc.sum()"
   ]
  }
 ],
 "metadata": {
  "kernelspec": {
   "display_name": "crypto",
   "language": "python",
   "name": "crypto"
  },
  "language_info": {
   "codemirror_mode": {
    "name": "ipython",
    "version": 3
   },
   "file_extension": ".py",
   "mimetype": "text/x-python",
   "name": "python",
   "nbconvert_exporter": "python",
   "pygments_lexer": "ipython3",
   "version": "3.6.2"
  }
 },
 "nbformat": 4,
 "nbformat_minor": 2
}
